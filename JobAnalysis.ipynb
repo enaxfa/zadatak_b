{
 "cells": [
  {
   "cell_type": "code",
   "execution_count": 1,
   "metadata": {},
   "outputs": [],
   "source": [
    "#Load all the required library\n",
    "from pyspark.sql import SparkSession\n",
    "from pyspark.sql.functions import col, count, avg, udf,when, lower, regexp_replace, round, max\n",
    "from pyspark.sql.types import StringType\n",
    "import re"
   ]
  },
  {
   "cell_type": "code",
   "execution_count": 2,
   "metadata": {},
   "outputs": [
    {
     "name": "stderr",
     "output_type": "stream",
     "text": [
      "WARNING: An illegal reflective access operation has occurred\n",
      "WARNING: Illegal reflective access by org.apache.spark.unsafe.Platform (file:/opt/spark/jars/spark-unsafe_2.12-3.2.1.jar) to constructor java.nio.DirectByteBuffer(long,int)\n",
      "WARNING: Please consider reporting this to the maintainers of org.apache.spark.unsafe.Platform\n",
      "WARNING: Use --illegal-access=warn to enable warnings of further illegal reflective access operations\n",
      "WARNING: All illegal access operations will be denied in a future release\n",
      "Using Spark's default log4j profile: org/apache/spark/log4j-defaults.properties\n",
      "Setting default log level to \"WARN\".\n",
      "To adjust logging level use sc.setLogLevel(newLevel). For SparkR, use setLogLevel(newLevel).\n",
      "24/10/22 09:55:27 WARN NativeCodeLoader: Unable to load native-hadoop library for your platform... using builtin-java classes where applicable\n",
      "24/10/22 09:55:44 WARN package: Truncated the string representation of a plan since it was too large. This behavior can be adjusted by setting 'spark.sql.debug.maxToStringFields'.\n"
     ]
    },
    {
     "name": "stdout",
     "output_type": "stream",
     "text": [
      "+--------------------+-------------------+--------------------+-------------+-------+--------------------+-----------------+----------------+-------------+---+-----------+--------------------+-------------+----------------+-----------------------+-----------------------+------------------------+--------------------+-------------------------+------------------+--------------+---------------+-------------+--------------------+-------------+----------------+--------------------+---------+----------------------+------------------------+----------+----------------------------+-----------------+--------------+--------------------+-----+------------------+--------------------+--------------------+-------------+\n",
      "|                city|company_description|        company_name|contact_email|country|     crawl_timestamp|           domain|duplicate_status|fitness_score|geo|has_expired|html_job_description|inferred_city|inferred_country|inferred_iso2_lang_code|inferred_iso3_lang_code|inferred_salary_currency|inferred_salary_from|inferred_salary_time_unit|inferred_salary_to|inferred_state|is_consumed_job|    job_board|     job_description|job_post_lang|job_requirements|           job_title| job_type|last_expiry_check_date|latest_expiry_check_date| post_date|postdate_in_indexname_format|postdate_yyyymmdd|salary_offered|           site_name|state|test_contact_email|             uniq_id|                 url|valid_through|\n",
      "+--------------------+-------------------+--------------------+-------------+-------+--------------------+-----------------+----------------+-------------+---+-----------+--------------------+-------------+----------------+-----------------------+-----------------------+------------------------+--------------------+-------------------------+------------------+--------------+---------------+-------------+--------------------+-------------+----------------+--------------------+---------+----------------------+------------------------+----------+----------------------------+-----------------+--------------+--------------------+-----+------------------+--------------------+--------------------+-------------+\n",
      "|             Houston|                   |                GPAC|         null|     US|2020-06-26 01:54:...|careerbuilder_com|              NA|           10|usa|      false|<strong>Job Descr...|      Houston|   United states|                     en|                    eng|                    null|                null|                        /|              null|         Texas|           null|careerbuilder|SR. PROJECT MANAG...|        en-us|            null|Asphalt/Concrete ...|Full-Time|            2020.06.26|              2020-06-26|2020-06-25|                  2020.06.22|         20200625|              |careerbuilder_usa...|   TX|              null|9a457ef257fecf231...|https://www.caree...|   2020-07-24|\n",
      "|          Cincinnati|               null|  Amazon Fulfillment|         null|     US|2020-05-17 01:21:...|careerbuilder_com|              NA|           10|usa|      false|<strong>Job Descr...|   Cincinnati|   United states|                     en|                    eng|                    null|                null|                        /|              null|          Ohio|           null|careerbuilder|Shifts: Overnight...|        en-us|            null|Amazon Warehouse ...|Full-Time|            2020.05.17|              2020-05-17|2020-05-16|                  2020.05.11|         20200516|              |careerbuilder_usa...|   OH|              null|ba471e2faf6f79caf...|https://www.caree...|   2020-06-15|\n",
      "|             Peabody|               null|  Amazon Fulfillment|         null|     US|2020-06-27 04:53:...|careerbuilder_com|              NA|           10|usa|      false|<strong>Job Descr...|      Peabody|   United states|                     en|                    eng|                    null|                null|                        /|              null| Massachusetts|           null|careerbuilder|Shifts: Early Mor...|        en-us|            null|Amazon Warehouse ...|Full-Time|            2020.06.27|              2020-06-27|2020-06-26|                  2020.06.22|         20200626|              |careerbuilder_usa...|   MA|              null|6f00bd02d63c633b5...|https://www.caree...|   2020-07-25|\n",
      "|             Villard|                   |            Manpower|         null|     US|2020-06-03 01:21:...|careerbuilder_com|              NA|           10|usa|      false|<strong>Job Descr...|      Villard|   United states|                     en|                    eng|                       $|               14.00|                    /hour|             14.00|     Minnesota|           null|careerbuilder|Do you pride your...|        en-us|            null| Assembly Electrical|Full-Time|            2020.06.03|              2020-06-03|2020-06-02|                  2020.06.01|         20200602|  $14.00/ hour|careerbuilder_usa...|   MN|              null|8ad0d00bfa23cfd7b...|https://www.caree...|   2020-07-01|\n",
      "|           Anchorage|                   |The North West Co...|         null|     US|2020-05-23 01:19:...|careerbuilder_com|              NA|           10|usa|      false|<strong>Job Descr...|    Anchorage|   United states|                     en|                    eng|                    null|                null|                        /|              null|        Alaska|           null|careerbuilder|In your role as G...|        en-us|            null|   Graphics Designer|Full-Time|            2020.05.23|              2020-05-23|2020-05-22|                  2020.05.22|         20200522|              |careerbuilder_usa...|   AK|              null|31753dc342a1b2a07...|https://www.caree...|   2020-06-21|\n",
      "|              Urbana|                   |            Circle K|         null|     US|2020-05-25 10:04:...|careerbuilder_com|              NA|           10|usa|      false|<strong>Job Descr...|       Urbana|   United states|                     en|                    eng|                    null|                null|                        /|              null|      Illinois|           null|careerbuilder|may change period...|        en-us|            null|Customer Service ...|Full-Time|            2020.05.25|              2020-05-25|2020-05-24|                  2020.05.22|         20200524|              |careerbuilder_usa...|   IL|              null|d8bbd27764ff850f5...|https://www.caree...|   2020-06-23|\n",
      "|South Brunswick T...|                   |Genesis Healthcar...|         null|     US|2020-05-23 01:13:...|careerbuilder_com|              NA|           10|usa|      false|<strong>Job Descr...|             |   United states|                     en|                    eng|                    null|                null|                        /|              null|    New jersey|           null|careerbuilder|Genesis HealthCar...|        en-us|            null|        Receptionist| Per Diem|            2020.05.23|              2020-05-23|2020-05-22|                  2020.05.22|         20200522|              |careerbuilder_usa...|   NJ|              null|b716cdee3b40360f8...|https://www.caree...|   2020-06-21|\n",
      "|              Gretna|               null|           Talentify|         null|     US|2020-06-25 01:48:...|careerbuilder_com|              NA|           10|usa|      false|<strong>Job Descr...|       Gretna|   United states|                     en|                    eng|                    null|                null|                        /|              null|     Louisiana|           null|careerbuilder|Location: No 4 We...|        en-us|            null|U-Haul Moving Cen...|Full-Time|            2020.06.25|              2020-06-25|2020-06-24|                  2020.06.22|         20200624|              |careerbuilder_usa...|   LA|              null|94e46cabddc4e3027...|https://www.caree...|   2020-07-23|\n",
      "|            Stockton|                   |                Volt|         null|     US|2020-05-18 01:07:...|careerbuilder_com|              NA|           10|usa|      false|<strong>Job Descr...|     Stockton|   United states|                     en|                    eng|                    null|                null|                        /|              null|    California|           null|careerbuilder|VOLT has an immed...|        en-us|            null|    Staff Accountant|Full-Time|            2020.05.18|              2020-05-18|2020-05-17|                  2020.05.11|         20200517|              |careerbuilder_usa...|   CA|              null|e7da38a3d35f799fd...|https://www.caree...|   2020-06-16|\n",
      "|               Tampa|                   |               FedEx|         null|     US|2020-05-29 01:16:...|careerbuilder_com|              NA|           10|usa|      false|<strong>Job Descr...|        Tampa|   United states|                     en|                    eng|                    null|                null|                        /|              null|       Florida|           null|careerbuilder|Job Title: Packag...|        en-us|            null|Package Handler (...|Part-Time|            2020.05.29|              2020-05-29|2020-05-28|                  2020.05.22|         20200528|              |careerbuilder_usa...|   FL|              null|6248457c6236cce48...|https://www.caree...|   2020-06-27|\n",
      "+--------------------+-------------------+--------------------+-------------+-------+--------------------+-----------------+----------------+-------------+---+-----------+--------------------+-------------+----------------+-----------------------+-----------------------+------------------------+--------------------+-------------------------+------------------+--------------+---------------+-------------+--------------------+-------------+----------------+--------------------+---------+----------------------+------------------------+----------+----------------------------+-----------------+--------------+--------------------+-----+------------------+--------------------+--------------------+-------------+\n",
      "only showing top 10 rows\n",
      "\n"
     ]
    }
   ],
   "source": [
    "spark = SparkSession.builder.appName(\"jobAnalysis\").getOrCreate()\n",
    "spark.conf.set(\"mapreduce.fileoutputcommitter.marksuccessfuljobs\", \"false\")\n",
    "df = spark.read.json(\"/mnt/data/marketing_sample.ldjson\")\n",
    "df.show(10)"
   ]
  },
  {
   "cell_type": "code",
   "execution_count": 3,
   "metadata": {},
   "outputs": [
    {
     "name": "stderr",
     "output_type": "stream",
     "text": [
      "                                                                                \r"
     ]
    },
    {
     "name": "stdout",
     "output_type": "stream",
     "text": [
      "+------------+----------+---------+\n",
      "|        city| post_date|job_count|\n",
      "+------------+----------+---------+\n",
      "|    Portland|2020-06-04|       39|\n",
      "|      Denver|2020-06-23|       36|\n",
      "|Philadelphia|2020-05-14|       23|\n",
      "|      Boston|2020-06-26|       22|\n",
      "|  Cincinnati|2020-05-23|       22|\n",
      "|  Cincinnati|2020-05-24|       22|\n",
      "|   St. Louis|2020-05-20|       21|\n",
      "|    Portland|2020-04-28|       20|\n",
      "|      Boston|2020-05-21|       20|\n",
      "|Philadelphia|2020-06-15|       20|\n",
      "|  Cincinnati|2020-06-04|       19|\n",
      "|   St. Louis|2020-05-11|       18|\n",
      "|      Boston|2020-05-26|       18|\n",
      "|     Trenton|2020-06-01|       18|\n",
      "|  Cincinnati|2020-06-09|       17|\n",
      "|    Portland|2020-05-23|       17|\n",
      "|      Boston|2020-06-11|       17|\n",
      "|      Denver|2020-06-02|       17|\n",
      "|     Trenton|2020-05-30|       16|\n",
      "|Philadelphia|2020-06-19|       16|\n",
      "+------------+----------+---------+\n",
      "only showing top 20 rows\n",
      "\n"
     ]
    },
    {
     "name": "stderr",
     "output_type": "stream",
     "text": [
      "                                                                                \r"
     ]
    }
   ],
   "source": [
    "# 1. Calculate number of jobs posted on a daily basis per city\n",
    "df_daily_jobs = df.groupBy(\"city\", \"post_date\").agg(count(\"uniq_id\").alias(\"job_count\")).orderBy(\"job_count\", ascending = False)\n",
    "df_daily_jobs.show()\n",
    "df_daily_jobs.coalesce(1).write.csv('/mnt/csv/daily_jobs', header = True , sep=';', mode = 'overwrite')"
   ]
  },
  {
   "cell_type": "code",
   "execution_count": 4,
   "metadata": {},
   "outputs": [
    {
     "name": "stderr",
     "output_type": "stream",
     "text": [
      "[Stage 13:==================================================>       (7 + 1) / 8]\r"
     ]
    },
    {
     "name": "stdout",
     "output_type": "stream",
     "text": [
      "+------------------------+\n",
      "|inferred_salary_currency|\n",
      "+------------------------+\n",
      "|                    null|\n",
      "|                       $|\n",
      "|                       £|\n",
      "+------------------------+\n",
      "\n"
     ]
    },
    {
     "name": "stderr",
     "output_type": "stream",
     "text": [
      "                                                                                \r"
     ]
    }
   ],
   "source": [
    "#2.   calculate average salary per job title and state\n",
    "# Analysing data and values: Need to transform everything in dollars\n",
    "df.select(\"inferred_salary_currency\").distinct().show()"
   ]
  },
  {
   "cell_type": "code",
   "execution_count": 5,
   "metadata": {},
   "outputs": [
    {
     "name": "stdout",
     "output_type": "stream",
     "text": [
      "+--------------------+--------------+--------------------+--------------------+------------------+-------------------------+------------------------+\n",
      "|           job_title|inferred_state|      salary_offered|inferred_salary_from|inferred_salary_to|inferred_salary_time_unit|inferred_salary_currency|\n",
      "+--------------------+--------------+--------------------+--------------------+------------------+-------------------------+------------------------+\n",
      "| Assembly Electrical|     Minnesota|        $14.00/ hour|               14.00|             14.00|                    /hour|                       $|\n",
      "|Customer Service ...|      Maryland|$41,000.00 - $62,...|           41,000.00|         62,000.00|                    /year|                       $|\n",
      "|Call Center Repre...|         Texas|$12.00 - $13.50 /...|               12.00|             13.50|                    /hour|                       $|\n",
      "|Site Lead Securit...|      Colorado|        $16.50/ hour|               16.50|             16.50|                    /hour|                       $|\n",
      "|Full-Time Securit...|      Illinois|        $14.00/ hour|               14.00|             14.00|                    /hour|                       $|\n",
      "|Operator - Securi...|    California|$20.00 - $23.74 /...|               20.00|             23.74|                    /hour|                       $|\n",
      "|  Bindery- 1st shift|      Kentucky|        $11.75/ hour|               11.75|             11.75|                    /hour|                       $|\n",
      "| Retail Merchandiser|       Alabama|$9.50 - $16.00 / ...|                9.50|             16.00|                    /hour|                       $|\n",
      "|1st, 2nd, & 3rd S...|      Kentucky|$11.25 - $11.50 /...|               11.25|             11.50|                    /hour|                       $|\n",
      "|Laborers -Start A...|        Kansas|$16.00 - $17.00 /...|               16.00|             17.00|                    /hour|                       $|\n",
      "|Fabrication Machi...|   Connecticut|$16.00 - $18.00 /...|               16.00|             18.00|                    /hour|                       $|\n",
      "| Retail Merchandiser|      Illinois|$9.50 - $16.00 / ...|                9.50|             16.00|                    /hour|                       $|\n",
      "|Openings for Sit ...|  Pennsylvania|$15.00 - $16.00 /...|               15.00|             16.00|                    /hour|                       $|\n",
      "|SAP Transformatio...|    California|$0.00 - $74.33 / ...|                0.00|             74.33|                    /hour|                       $|\n",
      "|         Reach Truck|     Tennessee|$15.00 - $17.50 /...|               15.00|             17.50|                    /hour|                       $|\n",
      "|Manufacturing Ope...|  Pennsylvania|$15.00 - $16.00 /...|               15.00|             16.00|                    /hour|                       $|\n",
      "|Customer Service ...|  Pennsylvania|$53,000.00 - $58,...|           53,000.00|         58,000.00|                    /year|                       $|\n",
      "|           Recruiter|     Minnesota|$40,000.00 - $300...|           40,000.00|        300,000.00|                    /year|                       $|\n",
      "|Accounting Clerk ...|      Virginia|    $35,000.00/ year|           35,000.00|         35,000.00|                    /year|                       $|\n",
      "| Retail Merchandiser|      Kentucky|$9.50 - $16.00 / ...|                9.50|             16.00|                    /hour|                       $|\n",
      "+--------------------+--------------+--------------------+--------------------+------------------+-------------------------+------------------------+\n",
      "only showing top 20 rows\n",
      "\n"
     ]
    },
    {
     "data": {
      "text/plain": [
       "3518"
      ]
     },
     "execution_count": 5,
     "metadata": {},
     "output_type": "execute_result"
    }
   ],
   "source": [
    "#Creating subset of needed fields\n",
    "offered_salary_df = df.select(\"job_title\",\"inferred_state\",\"salary_offered\",\"inferred_salary_from\",\"inferred_salary_to\",\"inferred_salary_time_unit\",\"inferred_salary_currency\").where(\"inferred_salary_currency is not null and inferred_salary_from <> 'null' and inferred_salary_to is not null\")\n",
    "offered_salary_df.show()\n",
    "offered_salary_df.count()"
   ]
  },
  {
   "cell_type": "code",
   "execution_count": 6,
   "metadata": {},
   "outputs": [
    {
     "name": "stderr",
     "output_type": "stream",
     "text": [
      "[Stage 20:=====================>                                    (3 + 5) / 8]\r"
     ]
    },
    {
     "name": "stdout",
     "output_type": "stream",
     "text": [
      "+-------------------------+---------+\n",
      "|inferred_salary_time_unit|job_count|\n",
      "+-------------------------+---------+\n",
      "|                    /hour|     2161|\n",
      "|                    /year|     1304|\n",
      "|                    /Hour|       42|\n",
      "|          /$0.44 Per mile|        2|\n",
      "|     /USD $110000.00 t...|        1|\n",
      "|                     /30!|        1|\n",
      "|                      /hr|        1|\n",
      "|     /US$50 per hour +...|        1|\n",
      "|                   /$150K|        1|\n",
      "|     /USD $150000.00 p...|        1|\n",
      "|           /$16.00 hourly|        1|\n",
      "|           /$12.75 Hourly|        1|\n",
      "|         /up to $4,000.00|        1|\n",
      "+-------------------------+---------+\n",
      "\n"
     ]
    },
    {
     "name": "stderr",
     "output_type": "stream",
     "text": [
      "                                                                                \r"
     ]
    }
   ],
   "source": [
    "#Insluding only first 3 most frequent time units\n",
    "df_time_units = offered_salary_df.groupBy(\"inferred_salary_time_unit\").agg(count(\"job_title\").alias(\"job_count\")).orderBy(\"job_count\", ascending = False)\n",
    "df_time_units.show()"
   ]
  },
  {
   "cell_type": "code",
   "execution_count": 7,
   "metadata": {},
   "outputs": [
    {
     "name": "stderr",
     "output_type": "stream",
     "text": [
      "                                                                                \r"
     ]
    },
    {
     "name": "stdout",
     "output_type": "stream",
     "text": [
      "+-------------------------------------------------------------------+--------------+----------------------------------------------------------------+--------------------+------------------+-----------------------------------------------------------------+------------------------+\n",
      "|job_title                                                          |inferred_state|salary_offered                                                  |inferred_salary_from|inferred_salary_to|inferred_salary_time_unit                                        |inferred_salary_currency|\n",
      "+-------------------------------------------------------------------+--------------+----------------------------------------------------------------+--------------------+------------------+-----------------------------------------------------------------+------------------------+\n",
      "|Regional Class A CDL                                               |Texas         |Average pay is $1500 per week/hr                                |Average             |Average           |/hr                                                              |$                       |\n",
      "|System Protection Project Engineer / Manager                       |Texas         |USD $110000.00 to $150000.00 per annum, bonus + benefits (includ|USD                 |USD               |/USD $110000.00 to $150000.00 per annum, bonus + benefits (includ|$                       |\n",
      "|OTR - Class A Drivers - HOME WEEKLY :)                             |Georgia       |$0.39 - $0.44 Per mile                                          |0.39                |0.44              |/$0.44 Per mile                                                  |$                       |\n",
      "|Maintenance Technician III                                         |Missouri      |$16.00 hourly                                                   |16.00               |16.00             |/$16.00 hourly                                                   |$                       |\n",
      "|Laborer Foreman (North Eastern Region USA) - MA, VT, ME            |Massachusetts |US$30 - US$50 per hour + Healthcare, Travel Allowance, 401k     |US30                |US50              |/US$50 per hour + Healthcare, Travel Allowance, 401k             |$                       |\n",
      "|Delivery Driver / Helper - HDA1 Coppell, TX                        |Texas         |+ extra $2/hour incentive till 4/30!                            |+                   |+                 |/30!                                                             |$                       |\n",
      "|OTR - Class A Drivers - HOME WEEKLY :)                             |Maryland      |$0.39 - $0.44 Per mile                                          |0.39                |0.44              |/$0.44 Per mile                                                  |$                       |\n",
      "|Design/Sales Representative - All Appts are Pre-Set - $100K - $150K|Texas         |$100K - $150K                                                   |100K                |150K              |/$150K                                                           |$                       |\n",
      "|Community Living Instructor/CLI Shadow Trainer/CLI Sign Fluent     |Missouri      |$12.75 Hourly                                                   |12.75               |12.75             |/$12.75 Hourly                                                   |$                       |\n",
      "|Senior Software Engineer                                           |Massachusetts |USD $150000.00 per annum, bonus + relocation assistance         |USD                 |USD               |/USD $150000.00 per annum, bonus + relocation assistance         |$                       |\n",
      "|C.N.A/HHA                                                          |Minnesota     |up to $4,000.00                                                 |up                  |up                |/up to $4,000.00                                                 |$                       |\n",
      "+-------------------------------------------------------------------+--------------+----------------------------------------------------------------+--------------------+------------------+-----------------------------------------------------------------+------------------------+\n",
      "\n"
     ]
    }
   ],
   "source": [
    "#Other time units are not usuable\n",
    "list_time_units = [row[\"inferred_salary_time_unit\"] for row in df_time_units.where(\"job_count <= 2\").collect()]\n",
    "offered_salary_df.filter(offered_salary_df.inferred_salary_time_unit.isin(list_time_units)).show(truncate= False)"
   ]
  },
  {
   "cell_type": "code",
   "execution_count": 8,
   "metadata": {},
   "outputs": [
    {
     "name": "stderr",
     "output_type": "stream",
     "text": [
      "                                                                                \r"
     ]
    },
    {
     "name": "stdout",
     "output_type": "stream",
     "text": [
      "+--------------------+--------------------+---------------------+\n",
      "|           job_title|      inferred_state|average_yearly_salary|\n",
      "+--------------------+--------------------+---------------------+\n",
      "|           Estimator|           Minnesota|             999999.0|\n",
      "|       Bounty Hunter|      North carolina|             500000.0|\n",
      "|Chief Revenue Off...|            Virginia|             475000.0|\n",
      "|Chief Commerical ...|            Arkansas|             475000.0|\n",
      "|Vice President of...|          California|             475000.0|\n",
      "|Vice President of...|District of columbia|             475000.0|\n",
      "|Vice President of...|            Illinois|             475000.0|\n",
      "|Vice President of...|             Arizona|             475000.0|\n",
      "|Outside Sales Age...|        Pennsylvania|             475000.0|\n",
      "|Vice President of...|            Nebraska|             475000.0|\n",
      "|Chief Information...|          New mexico|             475000.0|\n",
      "|Chief Human Resou...|               Texas|             475000.0|\n",
      "|Advertising Sales...|         Mississippi|             312500.0|\n",
      "|Advertising Sales...|             Wyoming|             312500.0|\n",
      "|     Insurance Sales|             Florida|             275000.0|\n",
      "|Independent Life ...|             Florida|             275000.0|\n",
      "|Life Insurance In...|             Florida|             272500.0|\n",
      "|Life Insurance Agent|                Ohio|             250000.0|\n",
      "|Traveling Superin...|            Nebraska|             230166.5|\n",
      "|Buyside - Data Sc...|            New york|             230000.0|\n",
      "+--------------------+--------------------+---------------------+\n",
      "only showing top 20 rows\n",
      "\n"
     ]
    },
    {
     "name": "stderr",
     "output_type": "stream",
     "text": [
      "                                                                                \r"
     ]
    }
   ],
   "source": [
    "#Calculating avrage yearly salary\n",
    "hours_per_week = 40\n",
    "weeks_per_year = 52\n",
    "pounds_to_dollars = 1.3  #conversion rate for GBP to USD\n",
    "\n",
    "# Clean and convert the salary columns to numeric and removing everything that is not digit\n",
    "cleaned_salary_df = offered_salary_df.withColumn(\n",
    "    \"inferred_salary_from\",\n",
    "    regexp_replace(col(\"inferred_salary_from\"), \"[^0-9.]\", \"\").cast(\"float\")\n",
    ").withColumn(\n",
    "    \"inferred_salary_to\",\n",
    "    regexp_replace(col(\"inferred_salary_to\"), \"[^0-9.]\", \"\").cast(\"float\")\n",
    ")\n",
    "\n",
    "# Normalize the salary to a yearly amount in USD\n",
    "normalized_salary_df = cleaned_salary_df.withColumn(\n",
    "    \"normalized_salary\",\n",
    "    when(\n",
    "        (lower(col(\"inferred_salary_time_unit\")).like(\"%hour\")) & (col(\"inferred_salary_currency\") == \"$\"),\n",
    "        ((col(\"inferred_salary_from\") + col(\"inferred_salary_to\")) / 2) * hours_per_week * weeks_per_year\n",
    "    ).when(\n",
    "        (lower(col(\"inferred_salary_time_unit\")).like(\"%hour\")) & (col(\"inferred_salary_currency\") == \"£\"),\n",
    "        ((col(\"inferred_salary_from\") + col(\"inferred_salary_to\")) / 2) * hours_per_week * weeks_per_year * pounds_to_dollars\n",
    "    ).when(\n",
    "        (lower(col(\"inferred_salary_time_unit\")).like(\"%year%\")) & (col(\"inferred_salary_currency\") == \"$\"),\n",
    "        (col(\"inferred_salary_from\") + col(\"inferred_salary_to\")) / 2\n",
    "    ).when(\n",
    "        (lower(col(\"inferred_salary_time_unit\")).like(\"%year%\")) & (col(\"inferred_salary_currency\") == \"£\"),\n",
    "        (col(\"inferred_salary_from\") + col(\"inferred_salary_to\")) / 2 * pounds_to_dollars\n",
    "    )\n",
    ")\n",
    "\n",
    "# Calculate the average salary per job title and state\n",
    "average_salary_df = normalized_salary_df.groupBy(\"job_title\", \"inferred_state\").agg(\n",
    "    round(avg(\"normalized_salary\"), 2).alias(\"average_yearly_salary\") \n",
    ").orderBy(\"average_yearly_salary\", ascending = False)\n",
    "\n",
    "\n",
    "average_salary_df.show()\n",
    "average_salary_df.coalesce(1).write.csv('/mnt/csv/avg_salary', header = True, sep=';', mode = 'overwrite')"
   ]
  },
  {
   "cell_type": "code",
   "execution_count": 9,
   "metadata": {},
   "outputs": [
    {
     "name": "stdout",
     "output_type": "stream",
     "text": [
      "+----------------+-----------+---------+\n",
      "|duplicate_status|has_expired|job_count|\n",
      "+----------------+-----------+---------+\n",
      "|              NA|      false|    29983|\n",
      "+----------------+-----------+---------+\n",
      "\n"
     ]
    }
   ],
   "source": [
    "#3.identify the top 10 most active companies by number of positions opened\n",
    "#There is no duplicates and non of the jobs are expired\n",
    "df.groupBy(\"duplicate_status\",\"has_expired\").agg(count(\"uniq_id\").alias(\"job_count\")).orderBy(\"job_count\").show()"
   ]
  },
  {
   "cell_type": "code",
   "execution_count": 10,
   "metadata": {},
   "outputs": [
    {
     "name": "stderr",
     "output_type": "stream",
     "text": [
      "[Stage 48:=======>                                                  (1 + 7) / 8]\r"
     ]
    },
    {
     "name": "stdout",
     "output_type": "stream",
     "text": [
      "Maximum Valid Through Date: 2020-07-28\n"
     ]
    },
    {
     "name": "stderr",
     "output_type": "stream",
     "text": [
      "                                                                                \r"
     ]
    }
   ],
   "source": [
    "#Currently there is no opened positions\n",
    "job_data_df = df.withColumn(\"valid_through\", col(\"valid_through\").cast(\"date\"))\n",
    "max_valid_through_date = job_data_df.agg(max(col(\"valid_through\"))).collect()[0][0]\n",
    "print(f\"Maximum Valid Through Date: {max_valid_through_date}\")"
   ]
  },
  {
   "cell_type": "code",
   "execution_count": 11,
   "metadata": {},
   "outputs": [
    {
     "name": "stderr",
     "output_type": "stream",
     "text": [
      "                                                                                \r"
     ]
    },
    {
     "name": "stdout",
     "output_type": "stream",
     "text": [
      "+--------------------+-----+\n",
      "|        company_name|count|\n",
      "+--------------------+-----+\n",
      "|  Amazon Fulfillment| 7501|\n",
      "|                GPAC|  924|\n",
      "|LanguageLine Solu...|  871|\n",
      "|Lowe's Home Impro...|  861|\n",
      "|      CDL Career Now|  545|\n",
      "|  Advance Auto Parts|  492|\n",
      "|             Aerotek|  477|\n",
      "|         Robert Half|  444|\n",
      "|    Driveline Retail|  372|\n",
      "|            Circle K|  334|\n",
      "+--------------------+-----+\n",
      "\n"
     ]
    },
    {
     "name": "stderr",
     "output_type": "stream",
     "text": [
      "                                                                                \r"
     ]
    }
   ],
   "source": [
    "active_companies_df = df.groupBy(\"company_name\").count()\n",
    "top_active_companies_df = active_companies_df.orderBy(\"count\", ascending = False).limit(10)\n",
    "top_active_companies_df.show()\n",
    "top_active_companies_df.coalesce(1).write.csv('/mnt/csv/top_10', header=True, mode = 'overwrite', sep =';')"
   ]
  },
  {
   "cell_type": "code",
   "execution_count": 12,
   "metadata": {},
   "outputs": [
    {
     "name": "stderr",
     "output_type": "stream",
     "text": [
      "                                                                                \r"
     ]
    }
   ],
   "source": [
    "#4. create a UDF function to clean job description from HTML code contained inside\n",
    "@udf(returnType=StringType()) \n",
    "def clean_html(html):\n",
    "    clean = re.compile('<.*?>')\n",
    "    return re.sub(clean, '', html)\n",
    "\n",
    "cleaned_df = df.withColumn(\"cleaned_job_description\", clean_html(\"html_job_description\"))\n",
    "\n",
    "job_desc = cleaned_df.select(\"cleaned_job_description\",\"html_job_description\")\n",
    "job_desc.coalesce(1).write.csv('/mnt/csv/cleaned_job_description', header = True, sep=';', mode = 'overwrite')"
   ]
  },
  {
   "cell_type": "code",
   "execution_count": 13,
   "metadata": {},
   "outputs": [],
   "source": [
    "#spark.stop()"
   ]
  },
  {
   "cell_type": "markdown",
   "metadata": {},
   "source": [
    "UDF performance issue: https://medium.com/sparkbyexamples/why-avoid-udfs-in-spark-pyspark-e5903050e33c\n"
   ]
  },
  {
   "cell_type": "code",
   "execution_count": 14,
   "metadata": {},
   "outputs": [
    {
     "name": "stdout",
     "output_type": "stream",
     "text": [
      "+----------------------------------------------------------------------------------------------------------------------------------------------------------------------------------------------------------------------------------------------------------------------------------------------------------------------------------------------------------------------------------------------------------------------------------------------------------------------------------------------------------------------------------------------------------------------------------------------------------------------------------------------------------------------------------------------------------------------------------------------------------------------------------------------------------------------------------------------------------------------------------------------------------------------------------------------------------------------------------------------------------------------------------------------------------------------------------------------------------------------------------------------------------------------------------------------------------------------------------------------------------------------------------------------------------------------------------------------------------------------------------------------------------------------------------------------------------------------------------------------------------------------------------------------------------------------------------------------------------------------------------------------------------------------------------------------------------------------------------------------------------------------------------------------------------------------------------------------------------------------------------------------------------------------------------------------------------------------------------------------------------------------------------------------------------------------------------------------------------------------------------------------------------------------------------------------------------------------------------------------------------------------------------------------------------------------------------------------------------------------------------------------------------------------------------------------------------------------------------------------------------------------------------------------------------------------------------------------------------------------------------------------------------------------------------------------------------------------------------------------------------------------------------------------------------------------------------------------------------------------------------------------------------------------------------------------------------------------------------------------------------------------------------------------------------------------------------------------------------------------------------------------------------------------------------------------------------------------------------------------------------------------------------------------------------------------------------------------------------------------------------------------------------------------------------------------------------------------------------------------------------------------------------------------------------------------------------------------------------------------------------------------------------------------------------------------------------------------------------------------------------------------------------------------------------------------------------------------------------------------------------------------------------------------------------------------------------------------------------------------------------------------------------------------------------------------------------------------------------------------------------------------------------------------------------------------------------------------------------------------------------------------------------------------------------------------------------------------------------------------------------------------------------------------------------------------------------------------------------------------------------------------------------------------------------------------------------------------------------------------------------------------------------------------------------------------------------------------------------------------------------------------------------------------------------------------------------------------------------------------------------------------------+----------------------------------------------------------------------------------------------------------------------------------------------------------------------------------------------------------------------------------------------------------------------------------------------------------------------------------------------------------------------------------------------------------------------------------------------------------------------------------------------------------------------------------------------------------------------------------------------------------------------------------------------------------------------------------------------------------------------------------------------------------------------------------------------------------------------------------------------------------------------------------------------------------------------------------------------------------------------------------------------------------------------------------------------------------------------------------------------------------------------------------------------------------------------------------------------------------------------------------------------------------------------------------------------------------------------------------------------------------------------------------------------------------------------------------------------------------------------------------------------------------------------------------------------------------------------------------------------------------------------------------------------------------------------------------------------------------------------------------------------------------------------------------------------------------------------------------------------------------------------------------------------------------------------------------------------------------------------------------------------------------------------------------------------------------------------------------------------------------------------------------------------------------------------------------------------------------------------------------------------------------------------------------------------------------------------------------------------------------------------------------------------------------------------------------------------------------------------------------------------------------------------------------------------------------------------------------------------------------------------------------------------------------------------------------------------------------------------------------------------------------------------------------------------------------------------------------------------------------------------------------------------------------------------------------------------------------------------------------------------------------------------------------------------------------------------------------------------------------------------------------------------------------------------------------------------------------------------------------------------------------------------------------------------------------------------------------------------------------------------------------------------------------------------------------------------------------------------------------------------------------------------------------------------------------------------------------------------------------------------------------------------------------------------------------------------------------------------------------------------------------------------------------------------------------------------------------------------------------------------------------------------------------------------------------------------------------------------------------------------------------------------------------------------------------------------------------------------------------------------------------------------------------------------------------------------------------------------------------------------------------------------------------------------------------------------------------------------------------------------------------------------------------------------------------------------------------------------------------------------------------------------------------------------------------------------------------------------------------------------------------------------------------------------------------------------------------------------------------------------------------------------------------------------------------------------------------------------------------------------------------------------------+\n",
      "|cleaned_job_description                                                                                                                                                                                                                                                                                                                                                                                                                                                                                                                                                                                                                                                                                                                                                                                                                                                                                                                                                                                                                                                                                                                                                                                                                                                                                                                                                                                                                                                                                                                                                                                                                                                                                                                                                                                                                                                                                                                                                                                                                                                                                                                                                                                                                                                                                                                                                                                                                                                                                                                                                                                                                                                                                                                                                                                                                                                                                                                                                                                                                                                                                                                                                                                                                                                                                                                                                                                                                                                                                                                                                                                                                                                                                                                                                                                                                                                                                                                                                                                                                                                                                                                                                                                                                                                                                                                                                                                                                                                                                                                                                                                                                                                                                                                                                                                                                                                                             |html_job_description                                                                                                                                                                                                                                                                                                                                                                                                                                                                                                                                                                                                                                                                                                                                                                                                                                                                                                                                                                                                                                                                                                                                                                                                                                                                                                                                                                                                                                                                                                                                                                                                                                                                                                                                                                                                                                                                                                                                                                                                                                                                                                                                                                                                                                                                                                                                                                                                                                                                                                                                                                                                                                                                                                                                                                                                                                                                                                                                                                                                                                                                                                                                                                                                                                                                                                                                                                                                                                                                                                                                                                                                                                                                                                                                                                                                                                                                                                                                                                                                                                                                                                                                                                                                                                                                                                                                                                                                                                                                                                                                                                                                                                                                                                                                                                                                                                                                                |\n",
      "+----------------------------------------------------------------------------------------------------------------------------------------------------------------------------------------------------------------------------------------------------------------------------------------------------------------------------------------------------------------------------------------------------------------------------------------------------------------------------------------------------------------------------------------------------------------------------------------------------------------------------------------------------------------------------------------------------------------------------------------------------------------------------------------------------------------------------------------------------------------------------------------------------------------------------------------------------------------------------------------------------------------------------------------------------------------------------------------------------------------------------------------------------------------------------------------------------------------------------------------------------------------------------------------------------------------------------------------------------------------------------------------------------------------------------------------------------------------------------------------------------------------------------------------------------------------------------------------------------------------------------------------------------------------------------------------------------------------------------------------------------------------------------------------------------------------------------------------------------------------------------------------------------------------------------------------------------------------------------------------------------------------------------------------------------------------------------------------------------------------------------------------------------------------------------------------------------------------------------------------------------------------------------------------------------------------------------------------------------------------------------------------------------------------------------------------------------------------------------------------------------------------------------------------------------------------------------------------------------------------------------------------------------------------------------------------------------------------------------------------------------------------------------------------------------------------------------------------------------------------------------------------------------------------------------------------------------------------------------------------------------------------------------------------------------------------------------------------------------------------------------------------------------------------------------------------------------------------------------------------------------------------------------------------------------------------------------------------------------------------------------------------------------------------------------------------------------------------------------------------------------------------------------------------------------------------------------------------------------------------------------------------------------------------------------------------------------------------------------------------------------------------------------------------------------------------------------------------------------------------------------------------------------------------------------------------------------------------------------------------------------------------------------------------------------------------------------------------------------------------------------------------------------------------------------------------------------------------------------------------------------------------------------------------------------------------------------------------------------------------------------------------------------------------------------------------------------------------------------------------------------------------------------------------------------------------------------------------------------------------------------------------------------------------------------------------------------------------------------------------------------------------------------------------------------------------------------------------------------------------------------------------------------+----------------------------------------------------------------------------------------------------------------------------------------------------------------------------------------------------------------------------------------------------------------------------------------------------------------------------------------------------------------------------------------------------------------------------------------------------------------------------------------------------------------------------------------------------------------------------------------------------------------------------------------------------------------------------------------------------------------------------------------------------------------------------------------------------------------------------------------------------------------------------------------------------------------------------------------------------------------------------------------------------------------------------------------------------------------------------------------------------------------------------------------------------------------------------------------------------------------------------------------------------------------------------------------------------------------------------------------------------------------------------------------------------------------------------------------------------------------------------------------------------------------------------------------------------------------------------------------------------------------------------------------------------------------------------------------------------------------------------------------------------------------------------------------------------------------------------------------------------------------------------------------------------------------------------------------------------------------------------------------------------------------------------------------------------------------------------------------------------------------------------------------------------------------------------------------------------------------------------------------------------------------------------------------------------------------------------------------------------------------------------------------------------------------------------------------------------------------------------------------------------------------------------------------------------------------------------------------------------------------------------------------------------------------------------------------------------------------------------------------------------------------------------------------------------------------------------------------------------------------------------------------------------------------------------------------------------------------------------------------------------------------------------------------------------------------------------------------------------------------------------------------------------------------------------------------------------------------------------------------------------------------------------------------------------------------------------------------------------------------------------------------------------------------------------------------------------------------------------------------------------------------------------------------------------------------------------------------------------------------------------------------------------------------------------------------------------------------------------------------------------------------------------------------------------------------------------------------------------------------------------------------------------------------------------------------------------------------------------------------------------------------------------------------------------------------------------------------------------------------------------------------------------------------------------------------------------------------------------------------------------------------------------------------------------------------------------------------------------------------------------------------------------------------------------------------------------------------------------------------------------------------------------------------------------------------------------------------------------------------------------------------------------------------------------------------------------------------------------------------------------------------------------------------------------------------------------------------------------------------------------------------------------+\n",
      "|<strong>Job Description</strong> SR. PROJECT MANAGER WANTED!!!</p> </p>My client is a Mid-sized contractor and only does work in the HOUSTON metro area. We are looking for someone with ASPHALT AND CONCRETE/ TX DOT EXPERIENCE.</p> </p> </p><p>Qualifications:</p><ul><li>Previous asphalt paving experience preferred</li><li>Project Management experience preferred</li><li>Bachelor's Degree or equivalent experience; preferably in construction management</li><li>Excellent math and geometry skills</li><li>Knowledgeable in and proven abilities with estimating in ASPHALT AND CONCRETE or construction </li><li>Excellent communication skills, both written and verbal</li><li>Must have the ability to interact with external and internal customers and partners at a fast pace, multitasking environment, working independently with a high degree of problem-solving</li></ul> </p>To be considered please apply with your RESUME at [ Link Removed ] </p><p>All qualified applicants will receive consideration without regard to race, age, color, sex (including pregnancy), religion, national origin, disability, sexual orientation, gender identity, marital status, military status, genetic information, or any other status protected by applicable laws or regulations.</p><p></p><p>GPAC (Growing People and Companies) is an award-winning search firm specializing in placing quality professionals within multiple industries across the United States for the past 30 years. We are extremely competitive, client-focused and realize that our value is in our ability to deliver the right solutions at the right time.</p> <strong>Job Requirements</strong> Asphalt and Concrete Project Manager                                                                                                                                                                                                                                                                                                                                                                                                                                                                                                                                                                                                                                                                                                                                                                                                                                                                                                                                                                                                                                                                                                                                                                                                                                                                                                                                                                                                                                                                                                                                                                                                                                                                                                                                                                                                                                                                                                                                                                                                                                                                                                                                                                                                                                                                                                                                                                                                                                                                                                                                                                                                                                                                                                                                                                                                                                                                                                                                                                                                                                                                                                                                                              |<strong>Job Description</strong> SR. PROJECT MANAGER WANTED!!!</p> </p>My client is a Mid-sized contractor and only does work in the HOUSTON metro area. We are looking for someone with ASPHALT AND CONCRETE/ TX DOT EXPERIENCE.</p> </p> </p><p>Qualifications:</p><ul><li>Previous asphalt paving experience preferred</li><li>Project Management experience preferred</li><li>Bachelor's Degree or equivalent experience; preferably in construction management</li><li>Excellent math and geometry skills</li><li>Knowledgeable in and proven abilities with estimating in ASPHALT AND CONCRETE or construction </li><li>Excellent communication skills, both written and verbal</li><li>Must have the ability to interact with external and internal customers and partners at a fast pace, multitasking environment, working independently with a high degree of problem-solving</li></ul> </p>To be considered please apply with your RESUME at [ Link Removed ] </p><p>All qualified applicants will receive consideration without regard to race, age, color, sex (including pregnancy), religion, national origin, disability, sexual orientation, gender identity, marital status, military status, genetic information, or any other status protected by applicable laws or regulations.</p><p></p><p>GPAC (Growing People and Companies) is an award-winning search firm specializing in placing quality professionals within multiple industries across the United States for the past 30 years. We are extremely competitive, client-focused and realize that our value is in our ability to deliver the right solutions at the right time.</p> <strong>Job Requirements</strong> Asphalt and Concrete Project Manager                                                                                                                                                                                                                                                                                                                                                                                                                                                                                                                                                                                                                                                                                                                                                                                                                                                                                                                                                                                                                                                                                                                                                                                                                                                                                                                                                                                                                                                                                                                                                                                                                                                                                                                                                                                                                                                                                                                                                                                                                                                                                                                                                                                                                                                                                                                                                                                                                                                                                                                                                                                                                                                                                                                                                                                                                                                                                                                                                                                                                                                                                                                                                              |\n",
      "|<strong>Job Description</strong> <div> <b>Shifts: </b><br />Overnight, Early Morning, Day, Evening, Weekend<br /><br /><b>Location:</b><br /><b>Hebron, KY</b><br />Job opportunities vary by location. We update postings daily with open positions.<br /><br /><b>Hourly pay rate:  </b>Earn $15/hour or more.<br /><br /><b>Immediate openings available now. Start as soon as 7 days. No resume or previous work experience required.</b><br /><br />Become part of the dedicated team that gets orders ready for people relying on Amazon’s service. From flexible part-time roles to full-time set schedules with health care benefits, Amazon has a variety of jobs. Find the right Amazon opportunity for you today.<br /><br />Amazon remains open as an essential business to serve our communities delivering critical supplies directly to the doorsteps of people who need them. Find out what Amazon is doing to provide a safe environment for employees at this time on our [ Link Removed ] .<br /><br />Candidates must be 18 years or older with ability to read and speak English for safety.<br /><br /><b>Reasons you’ll love working here:</b><br /><br />Health and safety are a top priority with all of our roles and sites. We continue to consult with medical and health experts, and take all recommended precautions in our buildings and stores to keep people healthy.<br />  <ul> <li><b>Earn more: </b>You can expect a competitive wage and reliable paycheck when you work for Amazon.</li> <li><b>Career development:</b> Many of our entry-level employees become leaders in operations, HR, and other areas. See where your Amazon journey can take you.</li> <li><b>Benefits:</b> Our range of benefits can include health care starting on day one, employee discounts, 401(k) savings plans, paid time off and more! Find out which benefits you'll get after you choose your role with us.</li> <li><b>Stay active:</b> You’ll be on the move for your whole shift in our fast-paced environments.</li> </ul> <br /><b>Check out what some of our employees have to say about their jobs:</b><br /> [ Link Removed ] <br /><br /><b>Amazon is hiring for the following types of roles in your area:</b><br />Fulfillment Centers – Work inside an Amazon warehouse, selecting, packing and shipping customer orders. If you like a fast-paced, physical position that gets you up and moving, then come help bring orders to life. Work a set, full-time schedule. Shift options include overnight and days, and usually at least one weekend day. <br /><br />FULFILLMENT CENTERS (CUSTOMER RETURNS) - Work inside an Amazon warehouse, receiving and processing customer returns. In this fast-paced, active role, you will play an important part in protecting customer trust by evaluating the condition of returned items to determine if they can be resold. These are part-time opportunities with a consistent schedule of 25-35 hours per week.<br /><br />Delivery Stations – Amazon’s delivery stations are the final stop before an order heads out for delivery to the customer’s door. In this active job you sort packages into delivery routes. To ensure we meet customer-promised delivery times, shift times will vary. Depending on your location, you’ll work a set schedule with hours that range between full-time and part-time.<br /><br />DELIVERY STATIONS (Heavy Bulky) – This is the final stop for larger items, like large screen TVs, furniture, and refrigerators, before they head out for delivery to the customers’ doors. In this active job, you will sort our heavier and bulkier packages into delivery routes. Our teams work overnight shifts to meet customer-promised delivery times during the day. You’ll work up to 19 hours per week on the days you choose. Flexible hours, a reliable pay rate, and no surprises!<br /><br />Sort Centers – It’s no small job to get every order from click to customer door. Our sort centers are the first stop on the journey from the warehouse. You’ll be up on your feet moving and sorting packages between trucks. These are part-time opportunities with a consistent schedule of 25-35 hours per week.<br /><br />PRIME PANTRY WAREHOUSES - Prime Pantry brings items like cereal, snacks, baby products, and household supplies right to customers’ doors. You will work alongside Amazon Kiva Robots to receive and stow products and package customer orders to get them to their destination. You may operate carts and hand trucks to move items around the facilities. If you need flexibility in your schedule, this job allows you to choose from available shifts each week to create your own.* Flexible hours, a reliable pay rate, and no surprises!<br /><br />*Full-time and part-time roles with set schedules may also be available. </div>|<strong>Job Description</strong> <div> <b>Shifts: </b><br />Overnight, Early Morning, Day, Evening, Weekend<br /><br /><b>Location:</b><br /><b>Hebron, KY</b><br />Job opportunities vary by location. We update postings daily with open positions.<br /><br /><b>Hourly pay rate:  </b>Earn $15/hour or more.<br /><br /><b>Immediate openings available now. Start as soon as 7 days. No resume or previous work experience required.</b><br /><br />Become part of the dedicated team that gets orders ready for people relying on Amazon’s service. From flexible part-time roles to full-time set schedules with health care benefits, Amazon has a variety of jobs. Find the right Amazon opportunity for you today.<br /><br />Amazon remains open as an essential business to serve our communities delivering critical supplies directly to the doorsteps of people who need them. Find out what Amazon is doing to provide a safe environment for employees at this time on our [ Link Removed ] .<br /><br />Candidates must be 18 years or older with ability to read and speak English for safety.<br /><br /><b>Reasons you’ll love working here:</b><br /><br />Health and safety are a top priority with all of our roles and sites. We continue to consult with medical and health experts, and take all recommended precautions in our buildings and stores to keep people healthy.<br />  <ul> <li><b>Earn more: </b>You can expect a competitive wage and reliable paycheck when you work for Amazon.</li> <li><b>Career development:</b> Many of our entry-level employees become leaders in operations, HR, and other areas. See where your Amazon journey can take you.</li> <li><b>Benefits:</b> Our range of benefits can include health care starting on day one, employee discounts, 401(k) savings plans, paid time off and more! Find out which benefits you'll get after you choose your role with us.</li> <li><b>Stay active:</b> You’ll be on the move for your whole shift in our fast-paced environments.</li> </ul> <br /><b>Check out what some of our employees have to say about their jobs:</b><br /> [ Link Removed ] <br /><br /><b>Amazon is hiring for the following types of roles in your area:</b><br />Fulfillment Centers – Work inside an Amazon warehouse, selecting, packing and shipping customer orders. If you like a fast-paced, physical position that gets you up and moving, then come help bring orders to life. Work a set, full-time schedule. Shift options include overnight and days, and usually at least one weekend day. <br /><br />FULFILLMENT CENTERS (CUSTOMER RETURNS) - Work inside an Amazon warehouse, receiving and processing customer returns. In this fast-paced, active role, you will play an important part in protecting customer trust by evaluating the condition of returned items to determine if they can be resold. These are part-time opportunities with a consistent schedule of 25-35 hours per week.<br /><br />Delivery Stations – Amazon’s delivery stations are the final stop before an order heads out for delivery to the customer’s door. In this active job you sort packages into delivery routes. To ensure we meet customer-promised delivery times, shift times will vary. Depending on your location, you’ll work a set schedule with hours that range between full-time and part-time.<br /><br />DELIVERY STATIONS (Heavy Bulky) – This is the final stop for larger items, like large screen TVs, furniture, and refrigerators, before they head out for delivery to the customers’ doors. In this active job, you will sort our heavier and bulkier packages into delivery routes. Our teams work overnight shifts to meet customer-promised delivery times during the day. You’ll work up to 19 hours per week on the days you choose. Flexible hours, a reliable pay rate, and no surprises!<br /><br />Sort Centers – It’s no small job to get every order from click to customer door. Our sort centers are the first stop on the journey from the warehouse. You’ll be up on your feet moving and sorting packages between trucks. These are part-time opportunities with a consistent schedule of 25-35 hours per week.<br /><br />PRIME PANTRY WAREHOUSES - Prime Pantry brings items like cereal, snacks, baby products, and household supplies right to customers’ doors. You will work alongside Amazon Kiva Robots to receive and stow products and package customer orders to get them to their destination. You may operate carts and hand trucks to move items around the facilities. If you need flexibility in your schedule, this job allows you to choose from available shifts each week to create your own.* Flexible hours, a reliable pay rate, and no surprises!<br /><br />*Full-time and part-time roles with set schedules may also be available. </div>|\n",
      "+----------------------------------------------------------------------------------------------------------------------------------------------------------------------------------------------------------------------------------------------------------------------------------------------------------------------------------------------------------------------------------------------------------------------------------------------------------------------------------------------------------------------------------------------------------------------------------------------------------------------------------------------------------------------------------------------------------------------------------------------------------------------------------------------------------------------------------------------------------------------------------------------------------------------------------------------------------------------------------------------------------------------------------------------------------------------------------------------------------------------------------------------------------------------------------------------------------------------------------------------------------------------------------------------------------------------------------------------------------------------------------------------------------------------------------------------------------------------------------------------------------------------------------------------------------------------------------------------------------------------------------------------------------------------------------------------------------------------------------------------------------------------------------------------------------------------------------------------------------------------------------------------------------------------------------------------------------------------------------------------------------------------------------------------------------------------------------------------------------------------------------------------------------------------------------------------------------------------------------------------------------------------------------------------------------------------------------------------------------------------------------------------------------------------------------------------------------------------------------------------------------------------------------------------------------------------------------------------------------------------------------------------------------------------------------------------------------------------------------------------------------------------------------------------------------------------------------------------------------------------------------------------------------------------------------------------------------------------------------------------------------------------------------------------------------------------------------------------------------------------------------------------------------------------------------------------------------------------------------------------------------------------------------------------------------------------------------------------------------------------------------------------------------------------------------------------------------------------------------------------------------------------------------------------------------------------------------------------------------------------------------------------------------------------------------------------------------------------------------------------------------------------------------------------------------------------------------------------------------------------------------------------------------------------------------------------------------------------------------------------------------------------------------------------------------------------------------------------------------------------------------------------------------------------------------------------------------------------------------------------------------------------------------------------------------------------------------------------------------------------------------------------------------------------------------------------------------------------------------------------------------------------------------------------------------------------------------------------------------------------------------------------------------------------------------------------------------------------------------------------------------------------------------------------------------------------------------------------------------------------------------------------------+----------------------------------------------------------------------------------------------------------------------------------------------------------------------------------------------------------------------------------------------------------------------------------------------------------------------------------------------------------------------------------------------------------------------------------------------------------------------------------------------------------------------------------------------------------------------------------------------------------------------------------------------------------------------------------------------------------------------------------------------------------------------------------------------------------------------------------------------------------------------------------------------------------------------------------------------------------------------------------------------------------------------------------------------------------------------------------------------------------------------------------------------------------------------------------------------------------------------------------------------------------------------------------------------------------------------------------------------------------------------------------------------------------------------------------------------------------------------------------------------------------------------------------------------------------------------------------------------------------------------------------------------------------------------------------------------------------------------------------------------------------------------------------------------------------------------------------------------------------------------------------------------------------------------------------------------------------------------------------------------------------------------------------------------------------------------------------------------------------------------------------------------------------------------------------------------------------------------------------------------------------------------------------------------------------------------------------------------------------------------------------------------------------------------------------------------------------------------------------------------------------------------------------------------------------------------------------------------------------------------------------------------------------------------------------------------------------------------------------------------------------------------------------------------------------------------------------------------------------------------------------------------------------------------------------------------------------------------------------------------------------------------------------------------------------------------------------------------------------------------------------------------------------------------------------------------------------------------------------------------------------------------------------------------------------------------------------------------------------------------------------------------------------------------------------------------------------------------------------------------------------------------------------------------------------------------------------------------------------------------------------------------------------------------------------------------------------------------------------------------------------------------------------------------------------------------------------------------------------------------------------------------------------------------------------------------------------------------------------------------------------------------------------------------------------------------------------------------------------------------------------------------------------------------------------------------------------------------------------------------------------------------------------------------------------------------------------------------------------------------------------------------------------------------------------------------------------------------------------------------------------------------------------------------------------------------------------------------------------------------------------------------------------------------------------------------------------------------------------------------------------------------------------------------------------------------------------------------------------------------------------------------------+\n",
      "only showing top 2 rows\n",
      "\n"
     ]
    }
   ],
   "source": [
    "#If it is possible, better solution is to use pyspark built-in functions\n",
    "cleaned_df2 = df.withColumn(\"cleaned_job_description\", regexp_replace(\"html_job_description\",\"'<.*?>\",\"\"))\n",
    "job_desc2 = cleaned_df2.select(\"cleaned_job_description\",\"html_job_description\")\n",
    "job_desc2.show(2, truncate = False)"
   ]
  }
 ],
 "metadata": {
  "kernelspec": {
   "display_name": "Python 3 (ipykernel)",
   "language": "python",
   "name": "python3"
  },
  "language_info": {
   "codemirror_mode": {
    "name": "ipython",
    "version": 3
   },
   "file_extension": ".py",
   "mimetype": "text/x-python",
   "name": "python",
   "nbconvert_exporter": "python",
   "pygments_lexer": "ipython3",
   "version": "3.8.13"
  },
  "orig_nbformat": 4,
  "vscode": {
   "interpreter": {
    "hash": "aee8b7b246df8f9039afb4144a1f6fd8d2ca17a180786b69acc140d282b71a49"
   }
  }
 },
 "nbformat": 4,
 "nbformat_minor": 2
}
